{
 "cells": [
  {
   "cell_type": "code",
   "execution_count": 3,
   "id": "0ee0d354-dbdc-4184-a8b0-fa5f8e762bf8",
   "metadata": {},
   "outputs": [
    {
     "name": "stdout",
     "output_type": "stream",
     "text": [
      "1000\n"
     ]
    }
   ],
   "source": [
    "# case-1:\n",
    "def add(n1,n2=500):\n",
    "    add=n1+n2\n",
    "    print(add)\n",
    "add(500)\n",
    "# first we are defining the function\n",
    "# while defining the function we given n2=500\n",
    "# now we are calling the function\n",
    "# while we are calling the function n1=500"
   ]
  },
  {
   "cell_type": "code",
   "execution_count": 1,
   "id": "e927cc6a-ff63-4491-a88a-3ec842bc81ab",
   "metadata": {},
   "outputs": [
    {
     "name": "stdout",
     "output_type": "stream",
     "text": [
      "1500\n"
     ]
    }
   ],
   "source": [
    "#case-2:\n",
    "def add(n11,n21=1000):\n",
    "    add=n11+n21\n",
    "    print(add)\n",
    "add(500,1000)\n",
    "# first we are defining the function\n",
    "# while defining the function we given n21=1000\n",
    "# now we are calling the function\n",
    "# while we are calling the function n21=1000\n",
    "# values will overwrite\n",
    "# python always takes the latest value"
   ]
  },
  {
   "cell_type": "code",
   "execution_count": 5,
   "id": "f8b5ac4e-3e28-4c62-8488-91c756e89854",
   "metadata": {},
   "outputs": [
    {
     "name": "stdout",
     "output_type": "stream",
     "text": [
      "2500\n"
     ]
    }
   ],
   "source": [
    "#case3:\n",
    "def add(n12,n22=600):\n",
    "    n22=2000\n",
    "    add=n12+n22\n",
    "    print(add)\n",
    "add(500,1000)\n",
    "# step1: defining the function n22=600\n",
    "# step2: call the function n22=1000\n",
    "# step3: Running the function n12=500,n22=2000\n",
    "# python always takes the latest value "
   ]
  },
  {
   "cell_type": "code",
   "execution_count": null,
   "id": "edd73a57-ff50-4ca5-bda1-e347c9141a5e",
   "metadata": {},
   "outputs": [],
   "source": [
    "# case-4:\n",
    "def add(n13,n23=1000):\n",
    "    n23=2000\n",
    "    add=n13+n23\n",
    "    print(add)\n",
    "n23=3000\n",
    "add(500,1000)\n",
    "# first we are defining the function n23=1000\n",
    "# now we are calling the function n13=500,n23=1000\n",
    "# running the function\n",
    "# while running the function n23=2000\n",
    "# python always takes the latest values"
   ]
  },
  {
   "cell_type": "code",
   "execution_count": 9,
   "id": "89d1c8e0-62ad-47e0-b1c3-6a7dbd7c4a5d",
   "metadata": {},
   "outputs": [
    {
     "name": "stdout",
     "output_type": "stream",
     "text": [
      "1200\n"
     ]
    }
   ],
   "source": [
    "# case-5:\n",
    "al=100\n",
    "b1=200\n",
    "def add11(a1=1000):\n",
    "    add1=a1+b1\n",
    "    print(add1)\n",
    "add11()\n",
    "# first global variable initialization a1=100\n",
    "# now defining the function a1=1000\n",
    "# calling the function \n",
    "# running the function"
   ]
  },
  {
   "cell_type": "code",
   "execution_count": 13,
   "id": "4bb215f2-a6d9-4ed6-b3ca-a143d2f37e95",
   "metadata": {},
   "outputs": [
    {
     "ename": "TypeError",
     "evalue": "add11() got an unexpected keyword argument 'b11'",
     "output_type": "error",
     "traceback": [
      "\u001b[1;31m---------------------------------------------------------------------------\u001b[0m",
      "\u001b[1;31mTypeError\u001b[0m                                 Traceback (most recent call last)",
      "Cell \u001b[1;32mIn[13], line 7\u001b[0m\n\u001b[0;32m      5\u001b[0m     add1\u001b[38;5;241m=\u001b[39ma11\u001b[38;5;241m+\u001b[39mb11\n\u001b[0;32m      6\u001b[0m     \u001b[38;5;28mprint\u001b[39m(add1)\n\u001b[1;32m----> 7\u001b[0m add11(a11\u001b[38;5;241m=\u001b[39m\u001b[38;5;241m2000\u001b[39m,b11\u001b[38;5;241m=\u001b[39m\u001b[38;5;241m3000\u001b[39m)\n",
      "\u001b[1;31mTypeError\u001b[0m: add11() got an unexpected keyword argument 'b11'"
     ]
    }
   ],
   "source": [
    "#case-6\n",
    "a11=100\n",
    "b11=200\n",
    "def add11(a11=1000):\n",
    "    add1=a11+b11\n",
    "    print(add1)\n",
    "add11(a11=2000,b11=3000)\n",
    "# while defining function only one argument is there\n",
    "# while calling the function we are providing two arguments\n",
    "# it is not possible"
   ]
  },
  {
   "cell_type": "code",
   "execution_count": 17,
   "id": "d2bc18f5-e1bd-4b8f-841a-f1b7ad406022",
   "metadata": {},
   "outputs": [
    {
     "name": "stdout",
     "output_type": "stream",
     "text": [
      "2200\n"
     ]
    }
   ],
   "source": [
    "#case-7\n",
    "a12=100\n",
    "b12=200\n",
    "def add11(a12=1000):\n",
    "    add1=a12+b12\n",
    "    print(add1)\n",
    "add11(a12=2000)\n",
    "# global avriable intialization a12=100,b12=200\n",
    "# defining the function a12=1000\n",
    "# calling the function a12=2000\n",
    "# python always takes the latest values\n",
    "# running the function"
   ]
  },
  {
   "cell_type": "code",
   "execution_count": 23,
   "id": "446ffb49-88ee-4306-8759-d3444b5f06b4",
   "metadata": {},
   "outputs": [
    {
     "name": "stdout",
     "output_type": "stream",
     "text": [
      "300\n"
     ]
    }
   ],
   "source": [
    "#case-8\n",
    "a13=100\n",
    "b13=200\n",
    "def add12(a13=1000):\n",
    "    a13=3000\n",
    "    add13=a12+b12\n",
    "    print(add13)\n",
    "add12(a13=2000)\n",
    "# first global initialization a13=100,b13=200\n",
    "# defining the function a13=3000\n",
    "# calling the function a13=2000\n",
    "# running the function\n",
    "# while running the function a13=3000\n",
    "# python always takes the latest values"
   ]
  },
  {
   "cell_type": "code",
   "execution_count": 29,
   "id": "38c81a17-1df9-4960-9792-7780ccdf7102",
   "metadata": {},
   "outputs": [
    {
     "name": "stdout",
     "output_type": "stream",
     "text": [
      "4200\n"
     ]
    }
   ],
   "source": [
    "#case-9\n",
    "a14=100\n",
    "b14=200\n",
    "def add13(a14=1000):\n",
    "    a14=4000\n",
    "    addd=a14+b14\n",
    "    print(addd)\n",
    "add13(a14=2000)\n",
    "# first global initialization a14=100,b14=200\n",
    "# defining the function\n",
    "# while defining the function a14=1000\n",
    "# calling the function a14=2000\n",
    "# running the function a14=4000\n",
    "# python always takes the latest values"
   ]
  },
  {
   "cell_type": "code",
   "execution_count": 33,
   "id": "699e5aa6-012a-4166-b442-eb0758aa7623",
   "metadata": {},
   "outputs": [
    {
     "name": "stdout",
     "output_type": "stream",
     "text": [
      "800\n"
     ]
    }
   ],
   "source": [
    "#case-10:\n",
    "a15=100\n",
    "def add14():\n",
    "    add1=a15+b15\n",
    "    print(add1)\n",
    "b15=700\n",
    "add14()\n",
    "# first global initialization a15=100\n",
    "# defining the function\n",
    "# calling the function b15=700\n",
    "# running the function"
   ]
  },
  {
   "cell_type": "code",
   "execution_count": 35,
   "id": "96bd0dc6-d01d-48a5-86a7-055c5862cbf3",
   "metadata": {},
   "outputs": [
    {
     "name": "stdout",
     "output_type": "stream",
     "text": [
      "1200\n"
     ]
    }
   ],
   "source": [
    "#case-11\n",
    "b16=200\n",
    "def add15():\n",
    "    add1=a16+b16\n",
    "    print(add1)\n",
    "a16=2000\n",
    "add11()\n",
    "# first global initialization b16=200\n",
    "# defining the function\n",
    "# calling the function a16=2000\n",
    "# running the function"
   ]
  },
  {
   "cell_type": "code",
   "execution_count": 37,
   "id": "c11257ed-6bf5-498d-80cc-1e32bec93a6e",
   "metadata": {},
   "outputs": [
    {
     "name": "stdout",
     "output_type": "stream",
     "text": [
      "1200\n"
     ]
    }
   ],
   "source": [
    "#case-12\n",
    "b17=200\n",
    "def add16():\n",
    "    add1=a17+b17\n",
    "    print(add1)\n",
    "add11()\n",
    "a17=3000\n",
    "# first global variable initialization b17=200\n",
    "# defining the function\n",
    "# calling the functio"
   ]
  },
  {
   "cell_type": "code",
   "execution_count": 1,
   "id": "8a1d99d3-9e56-4c0c-9809-03eb99398620",
   "metadata": {},
   "outputs": [
    {
     "name": "stdout",
     "output_type": "stream",
     "text": [
      "30\n"
     ]
    }
   ],
   "source": [
    "def add(a1,b1):\n",
    "    add1=(a1+b1)\n",
    "    print(add1)\n",
    "a1=500\n",
    "add(10,20)\n",
    "\n"
   ]
  },
  {
   "cell_type": "code",
   "execution_count": 11,
   "id": "8554adb6-33bd-49e8-a8b4-a7ca76e86309",
   "metadata": {},
   "outputs": [
    {
     "ename": "UnboundLocalError",
     "evalue": "cannot access local variable 's' where it is not associated with a value",
     "output_type": "error",
     "traceback": [
      "\u001b[1;31m---------------------------------------------------------------------------\u001b[0m",
      "\u001b[1;31mUnboundLocalError\u001b[0m                         Traceback (most recent call last)",
      "Cell \u001b[1;32mIn[11], line 5\u001b[0m\n\u001b[0;32m      3\u001b[0m     s\u001b[38;5;241m=\u001b[39ms\u001b[38;5;241m+\u001b[39m\u001b[38;5;241m10\u001b[39m\n\u001b[0;32m      4\u001b[0m     \u001b[38;5;28mprint\u001b[39m(s)\n\u001b[1;32m----> 5\u001b[0m add()\n",
      "Cell \u001b[1;32mIn[11], line 3\u001b[0m, in \u001b[0;36madd\u001b[1;34m()\u001b[0m\n\u001b[0;32m      2\u001b[0m \u001b[38;5;28;01mdef\u001b[39;00m \u001b[38;5;21madd\u001b[39m():\n\u001b[1;32m----> 3\u001b[0m     s\u001b[38;5;241m=\u001b[39ms\u001b[38;5;241m+\u001b[39m\u001b[38;5;241m10\u001b[39m\n\u001b[0;32m      4\u001b[0m     \u001b[38;5;28mprint\u001b[39m(s)\n",
      "\u001b[1;31mUnboundLocalError\u001b[0m: cannot access local variable 's' where it is not associated with a value"
     ]
    }
   ],
   "source": [
    "s=0\n",
    "def add():\n",
    "    s=s+10\n",
    "    print(s)\n",
    "add()"
   ]
  },
  {
   "cell_type": "code",
   "execution_count": 9,
   "id": "f9094f12-35c3-4b7e-b9fd-9a158d8c7157",
   "metadata": {},
   "outputs": [
    {
     "name": "stdout",
     "output_type": "stream",
     "text": [
      "10\n"
     ]
    }
   ],
   "source": [
    "a=0\n",
    "def add():\n",
    "    s=a+10\n",
    "    print(s)\n",
    "add()"
   ]
  },
  {
   "cell_type": "code",
   "execution_count": 15,
   "id": "25cb9a55-3608-4f86-8bf4-829f29561f19",
   "metadata": {},
   "outputs": [
    {
     "ename": "UnboundLocalError",
     "evalue": "cannot access local variable 'a' where it is not associated with a value",
     "output_type": "error",
     "traceback": [
      "\u001b[1;31m---------------------------------------------------------------------------\u001b[0m",
      "\u001b[1;31mUnboundLocalError\u001b[0m                         Traceback (most recent call last)",
      "Cell \u001b[1;32mIn[15], line 6\u001b[0m\n\u001b[0;32m      4\u001b[0m     a\u001b[38;5;241m=\u001b[39ms\n\u001b[0;32m      5\u001b[0m     a\u001b[38;5;241m=\u001b[39msprint(s)\n\u001b[1;32m----> 6\u001b[0m add()\n",
      "Cell \u001b[1;32mIn[15], line 3\u001b[0m, in \u001b[0;36madd\u001b[1;34m()\u001b[0m\n\u001b[0;32m      2\u001b[0m \u001b[38;5;28;01mdef\u001b[39;00m \u001b[38;5;21madd\u001b[39m():\n\u001b[1;32m----> 3\u001b[0m     s\u001b[38;5;241m=\u001b[39ma\u001b[38;5;241m+\u001b[39m\u001b[38;5;241m10\u001b[39m\n\u001b[0;32m      4\u001b[0m     a\u001b[38;5;241m=\u001b[39ms\n\u001b[0;32m      5\u001b[0m     a\u001b[38;5;241m=\u001b[39msprint(s)\n",
      "\u001b[1;31mUnboundLocalError\u001b[0m: cannot access local variable 'a' where it is not associated with a value"
     ]
    }
   ],
   "source": [
    "a=0\n",
    "def add():\n",
    "    s=a+10\n",
    "    a=s\n",
    "    a=sprint(s)\n",
    "add()"
   ]
  },
  {
   "cell_type": "code",
   "execution_count": 17,
   "id": "a7cf3180-e612-4e71-bc8a-4900bc0c6d6f",
   "metadata": {},
   "outputs": [
    {
     "name": "stdout",
     "output_type": "stream",
     "text": [
      "100 200 300\n"
     ]
    }
   ],
   "source": [
    "n1=10\n",
    "def addition():\n",
    "    n1=100\n",
    "    n2=200\n",
    "    n3=n1+n2\n",
    "    print(n1,n2,n3)\n",
    "addition()"
   ]
  },
  {
   "cell_type": "code",
   "execution_count": null,
   "id": "c2132adf-5d38-4e99-b7ca-db394b08da0b",
   "metadata": {},
   "outputs": [],
   "source": [
    "**Note**\n",
    "\n",
    "- if you give same variable as global and local\n",
    "\n",
    "- make sure that the variable should not use"
   ]
  },
  {
   "cell_type": "code",
   "execution_count": 19,
   "id": "753db17f-5d48-4137-86f9-2ea141a471ac",
   "metadata": {},
   "outputs": [
    {
     "name": "stdout",
     "output_type": "stream",
     "text": [
      "19 219 238\n"
     ]
    }
   ],
   "source": [
    "n1=19\n",
    "def addition1():\n",
    "    n2=200+n1\n",
    "    n3=n1+n2\n",
    "    print(n1,n2,n3)\n",
    "addition1()"
   ]
  },
  {
   "cell_type": "code",
   "execution_count": 21,
   "id": "69624755-28df-4cf5-9b92-a657c722ce2c",
   "metadata": {},
   "outputs": [
    {
     "ename": "UnboundLocalError",
     "evalue": "cannot access local variable 'a' where it is not associated with a value",
     "output_type": "error",
     "traceback": [
      "\u001b[1;31m---------------------------------------------------------------------------\u001b[0m",
      "\u001b[1;31mUnboundLocalError\u001b[0m                         Traceback (most recent call last)",
      "Cell \u001b[1;32mIn[21], line 6\u001b[0m\n\u001b[0;32m      4\u001b[0m     s\u001b[38;5;241m=\u001b[39mc\n\u001b[0;32m      5\u001b[0m     \u001b[38;5;28mprint\u001b[39m(s)\n\u001b[1;32m----> 6\u001b[0m add()\n",
      "Cell \u001b[1;32mIn[15], line 3\u001b[0m, in \u001b[0;36madd\u001b[1;34m()\u001b[0m\n\u001b[0;32m      2\u001b[0m \u001b[38;5;28;01mdef\u001b[39;00m \u001b[38;5;21madd\u001b[39m():\n\u001b[1;32m----> 3\u001b[0m     s\u001b[38;5;241m=\u001b[39ma\u001b[38;5;241m+\u001b[39m\u001b[38;5;241m10\u001b[39m\n\u001b[0;32m      4\u001b[0m     a\u001b[38;5;241m=\u001b[39ms\n\u001b[0;32m      5\u001b[0m     a\u001b[38;5;241m=\u001b[39msprint(s)\n",
      "\u001b[1;31mUnboundLocalError\u001b[0m: cannot access local variable 'a' where it is not associated with a value"
     ]
    }
   ],
   "source": [
    "s=0\n",
    "def addition2():\n",
    "    c=s+10\n",
    "    s=c\n",
    "    print(s)\n",
    "add()"
   ]
  },
  {
   "cell_type": "code",
   "execution_count": 23,
   "id": "c842f40b-7ecc-49d1-a167-775118c63ae3",
   "metadata": {},
   "outputs": [
    {
     "name": "stdout",
     "output_type": "stream",
     "text": [
      "hello\n"
     ]
    }
   ],
   "source": [
    "value=100\n",
    "def greet():\n",
    "    global value\n",
    "    value=200\n",
    "    print(\"hello\")\n",
    "greet()"
   ]
  },
  {
   "cell_type": "code",
   "execution_count": 25,
   "id": "e91cdd53-8c8c-4436-8fcf-185c82aa7620",
   "metadata": {},
   "outputs": [
    {
     "data": {
      "text/plain": [
       "200"
      ]
     },
     "execution_count": 25,
     "metadata": {},
     "output_type": "execute_result"
    }
   ],
   "source": [
    "value"
   ]
  },
  {
   "cell_type": "markdown",
   "id": "706e2d24-38b3-47f7-8972-6352ecacd88e",
   "metadata": {},
   "source": [
    "**Global keyword**\n",
    "\n",
    "- Global keyword is used to take the local variable value outside the function "
   ]
  },
  {
   "cell_type": "code",
   "execution_count": 27,
   "id": "78c7844d-a4cc-4352-b5ed-5e66e789b574",
   "metadata": {},
   "outputs": [
    {
     "name": "stdout",
     "output_type": "stream",
     "text": [
      "100 200 300\n"
     ]
    }
   ],
   "source": [
    "n11=10\n",
    "def addition3():\n",
    "    n22=200+n11\n",
    "    n33=n11+n22\n",
    "    print(n11,n22,n33)\n",
    "addition()"
   ]
  },
  {
   "cell_type": "code",
   "execution_count": 29,
   "id": "a1e274d7-15c5-4b09-a65b-1f1abb4f4ba2",
   "metadata": {},
   "outputs": [
    {
     "ename": "NameError",
     "evalue": "name 'n33' is not defined",
     "output_type": "error",
     "traceback": [
      "\u001b[1;31m---------------------------------------------------------------------------\u001b[0m",
      "\u001b[1;31mNameError\u001b[0m                                 Traceback (most recent call last)",
      "Cell \u001b[1;32mIn[29], line 1\u001b[0m\n\u001b[1;32m----> 1\u001b[0m n33\n",
      "\u001b[1;31mNameError\u001b[0m: name 'n33' is not defined"
     ]
    }
   ],
   "source": [
    "n33"
   ]
  },
  {
   "cell_type": "code",
   "execution_count": 41,
   "id": "1f8c07c5-e29a-449d-9ac2-997a958fc31a",
   "metadata": {},
   "outputs": [
    {
     "name": "stdout",
     "output_type": "stream",
     "text": [
      "100 210 310\n"
     ]
    }
   ],
   "source": [
    "n121=100\n",
    "def addition4():\n",
    "    global n221,n331\n",
    "    n221=200+n11\n",
    "    n331=n121+n221\n",
    "    print(n121,n221,n331)\n",
    "addition4()\n",
    "    "
   ]
  },
  {
   "cell_type": "code",
   "execution_count": 43,
   "id": "094b0c0e-ad36-42cc-82eb-ccb134726f5f",
   "metadata": {},
   "outputs": [
    {
     "data": {
      "text/plain": [
       "210"
      ]
     },
     "execution_count": 43,
     "metadata": {},
     "output_type": "execute_result"
    }
   ],
   "source": [
    "n221"
   ]
  },
  {
   "cell_type": "code",
   "execution_count": 45,
   "id": "09950c8e-47b2-4e15-bc7a-bd8207f75b75",
   "metadata": {},
   "outputs": [
    {
     "data": {
      "text/plain": [
       "310"
      ]
     },
     "execution_count": 45,
     "metadata": {},
     "output_type": "execute_result"
    }
   ],
   "source": [
    "n331"
   ]
  },
  {
   "cell_type": "markdown",
   "id": "4250075f-e506-4d91-9fba-e936398833bb",
   "metadata": {},
   "source": [
    "- outside the function is called Global variable\n",
    "\n",
    "- inside the fucntion is called local variable\n",
    "\n",
    "- local variables can not use outside the function\n",
    "\n",
    "- if you want to use outside the function use global keyword"
   ]
  },
  {
   "cell_type": "code",
   "execution_count": 55,
   "id": "b590dd0a-63af-4cf1-9876-e2cd887443d8",
   "metadata": {},
   "outputs": [
    {
     "name": "stdin",
     "output_type": "stream",
     "text": [
      " 23\n",
      " 44\n"
     ]
    },
    {
     "name": "stdout",
     "output_type": "stream",
     "text": [
      "1012\n"
     ]
    }
   ],
   "source": [
    "def mul(a,b):\n",
    "    print(a*b)\n",
    "\n",
    "mul(eval(input()),\n",
    "    eval(input()))"
   ]
  },
  {
   "cell_type": "markdown",
   "id": "5fdbf0a5-0207-48e9-b9e5-a8b76dfd14db",
   "metadata": {},
   "source": [
    "**Return**"
   ]
  },
  {
   "cell_type": "markdown",
   "id": "cda8cd82-1890-4ec1-b74a-e985bd9e079a",
   "metadata": {},
   "source": [
    "- we can use the local variable or funtion output outside the function using return\n",
    "\n",
    "- print is different\n",
    "\n",
    "- return is different\n",
    "\n",
    "- print is used to only to print the values\n",
    "\n",
    "- that value you can only see, but you can not use\n",
    "\n",
    "- if you want to use outside we will use return(it is also possible by using global)"
   ]
  },
  {
   "cell_type": "code",
   "execution_count": 66,
   "id": "8eebabdf-3f9d-48f3-90da-0043ccf8877b",
   "metadata": {},
   "outputs": [],
   "source": [
    "def average():\n",
    "    n1=10\n",
    "    n2=20\n",
    "    n3=30\n",
    "    avg=(n1+n2+n3)/3\n",
    "    return(avg)\n",
    "avg=average()\n",
    "# function is ready to return values to me\n",
    "# so i need to store "
   ]
  },
  {
   "cell_type": "code",
   "execution_count": 68,
   "id": "39770bda-e5dd-4240-99e7-fa315cc28b61",
   "metadata": {},
   "outputs": [
    {
     "data": {
      "text/plain": [
       "20.0"
      ]
     },
     "execution_count": 68,
     "metadata": {},
     "output_type": "execute_result"
    }
   ],
   "source": [
    "avg"
   ]
  },
  {
   "cell_type": "code",
   "execution_count": 80,
   "id": "7ee05db2-7450-403f-854c-03f77915a5c6",
   "metadata": {},
   "outputs": [],
   "source": [
    "def average():\n",
    "    n1=10\n",
    "    n2=20\n",
    "    n3=30\n",
    "    avg=(n1+n2+n3)/3\n",
    "    return(avg,n3)\n",
    "avg,n3=average()\n",
    "# how may values we are returning \n",
    "# we will store each return value in different variable\n",
    "# because two values are different\n",
    "# if you use only variable to store : tuple value"
   ]
  },
  {
   "cell_type": "code",
   "execution_count": 82,
   "id": "1163484d-8b8d-44d8-b4dc-253400585a1b",
   "metadata": {},
   "outputs": [
    {
     "data": {
      "text/plain": [
       "30"
      ]
     },
     "execution_count": 82,
     "metadata": {},
     "output_type": "execute_result"
    }
   ],
   "source": [
    "n3"
   ]
  },
  {
   "cell_type": "code",
   "execution_count": 74,
   "id": "4a9bfbbf-e8e1-456d-bbdc-666bdd3d7787",
   "metadata": {},
   "outputs": [
    {
     "data": {
      "text/plain": [
       "20.0"
      ]
     },
     "execution_count": 74,
     "metadata": {},
     "output_type": "execute_result"
    }
   ],
   "source": [
    "avg"
   ]
  },
  {
   "cell_type": "code",
   "execution_count": null,
   "id": "b900c1d3-4121-4004-8014-b0a165d4a475",
   "metadata": {},
   "outputs": [],
   "source": [
    "# return always at last line of the function\n",
    "# not in middle lines"
   ]
  },
  {
   "cell_type": "code",
   "execution_count": 84,
   "id": "f7f3d380-5f1b-4fe2-bd66-fde143308251",
   "metadata": {},
   "outputs": [],
   "source": [
    "def sub():\n",
    "    a=10\n",
    "    b=20\n",
    "    subb=b-a\n",
    "    return(a,b,subb)\n",
    "a,b,subb=sub()"
   ]
  },
  {
   "cell_type": "code",
   "execution_count": 86,
   "id": "4b764d6b-e3f0-4e88-a6e9-3997042fb484",
   "metadata": {},
   "outputs": [
    {
     "name": "stdout",
     "output_type": "stream",
     "text": [
      "10 20 10\n"
     ]
    }
   ],
   "source": [
    "print(a,b,subb)"
   ]
  },
  {
   "cell_type": "code",
   "execution_count": 88,
   "id": "f0eb8197-babc-4214-85d9-e890d11960a3",
   "metadata": {},
   "outputs": [],
   "source": [
    "def sub():\n",
    "    a=10\n",
    "    b=20\n",
    "    subb=b-a\n",
    "    return(a,b,subb)\n",
    "out=sub()"
   ]
  },
  {
   "cell_type": "code",
   "execution_count": 90,
   "id": "f26b3dce-d996-4f4c-b41c-542624998710",
   "metadata": {},
   "outputs": [
    {
     "name": "stdout",
     "output_type": "stream",
     "text": [
      "(10, 20, 10)\n"
     ]
    }
   ],
   "source": [
    "print(out)"
   ]
  },
  {
   "cell_type": "code",
   "execution_count": null,
   "id": "e6e2d77f-1277-433e-a45a-3302cbc222b2",
   "metadata": {},
   "outputs": [],
   "source": []
  }
 ],
 "metadata": {
  "kernelspec": {
   "display_name": "Python 3 (ipykernel)",
   "language": "python",
   "name": "python3"
  },
  "language_info": {
   "codemirror_mode": {
    "name": "ipython",
    "version": 3
   },
   "file_extension": ".py",
   "mimetype": "text/x-python",
   "name": "python",
   "nbconvert_exporter": "python",
   "pygments_lexer": "ipython3",
   "version": "3.11.7"
  }
 },
 "nbformat": 4,
 "nbformat_minor": 5
}
