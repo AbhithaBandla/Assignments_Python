{
 "cells": [
  {
   "cell_type": "code",
   "execution_count": 3,
   "id": "462f4df7-fcd6-4b2e-85bc-a70899d2c574",
   "metadata": {},
   "outputs": [
    {
     "name": "stdout",
     "output_type": "stream",
     "text": [
      "The square of 17 is 289\n"
     ]
    }
   ],
   "source": [
    "import random\n",
    "n1=random.randint(1,100)\n",
    "square=n1*n1\n",
    "print(f\"The square of {n1} is {square}\")"
   ]
  },
  {
   "cell_type": "code",
   "execution_count": 9,
   "id": "4a84e30c-0c7e-4309-8106-22c03b943390",
   "metadata": {},
   "outputs": [
    {
     "name": "stdout",
     "output_type": "stream",
     "text": [
      "47---94---141---188---235\n"
     ]
    }
   ],
   "source": [
    "import random\n",
    "x=random.randint(1,47)\n",
    "n1=x\n",
    "n2=2*x\n",
    "n3=3*x\n",
    "n4=4*x\n",
    "n5=5*x\n",
    "print(n1,n2,n3,n4,n5,sep='---')"
   ]
  },
  {
   "cell_type": "code",
   "execution_count": 3,
   "id": "471d0e77-d0e1-4731-ba71-e031d6727ae3",
   "metadata": {},
   "outputs": [
    {
     "name": "stdout",
     "output_type": "stream",
     "text": [
      "total pounds 48.400000000000006\n"
     ]
    }
   ],
   "source": [
    "import random\n",
    "weight=random.randint(1,100)\n",
    "pounds=2.2*weight\n",
    "print(f\"total pounds {pounds}\")"
   ]
  },
  {
   "cell_type": "code",
   "execution_count": 9,
   "id": "8755c481-4a22-48d9-96f6-05ee4f69de06",
   "metadata": {},
   "outputs": [
    {
     "name": "stdout",
     "output_type": "stream",
     "text": [
      "total: 192\n",
      "average: 64.0\n"
     ]
    }
   ],
   "source": [
    "import random\n",
    "n1=random.randint(1,50)\n",
    "n2=random.randint(50,100)\n",
    "n3=random.randint(50,100)\n",
    "total=(n1+n2+n3)\n",
    "average=total/3\n",
    "print(f\"total: {total}\")\n",
    "print(f\"average: {average}\")"
   ]
  },
  {
   "cell_type": "code",
   "execution_count": 19,
   "id": "adfacd8b-7217-402e-84ef-653d5bc286af",
   "metadata": {},
   "outputs": [
    {
     "name": "stdout",
     "output_type": "stream",
     "text": [
      "tip_amount: 1706.58\n"
     ]
    }
   ],
   "source": [
    "import random\n",
    "price_of_the_meal=random.randint(1000,1500)\n",
    "tip_percent=random.randint(10,30)\n",
    "tip_amount=tip_percent/100*price_of_the_meal\n",
    "total_bill=price_of_the_meal+tip_amount\n",
    "print(f\"tip_amount: {total_bill}\")"
   ]
  },
  {
   "cell_type": "code",
   "execution_count": 23,
   "id": "653b3a6b-e80b-41a8-88ec-b529da8773c9",
   "metadata": {},
   "outputs": [
    {
     "name": "stdout",
     "output_type": "stream",
     "text": [
      "subtraction: -47\n",
      "multiplication: 150\n",
      "division: 0.06\n",
      "addition: 53\n"
     ]
    }
   ],
   "source": [
    "import random\n",
    "n1=random.randint(1,10)\n",
    "n2=random.randint(30,50)\n",
    "subtraction=n1-n2\n",
    "addition=n1+n2\n",
    "multiplication=n1*n2\n",
    "division=n1/n2\n",
    "print(f\"subtraction: {subtraction}\")\n",
    "print(f\"multiplication: {multiplication}\")\n",
    "print(f\"division: {division}\")\n",
    "print(f\"addition: {addition}\")"
   ]
  },
  {
   "cell_type": "code",
   "execution_count": 29,
   "id": "e979762f-58dc-48b1-9ac3-f81f04f2d1f5",
   "metadata": {},
   "outputs": [
    {
     "name": "stdout",
     "output_type": "stream",
     "text": [
      "area: 102869.54000000001\n"
     ]
    }
   ],
   "source": [
    "import random\n",
    "r=random.randint(20,200)\n",
    "pi=3.14\n",
    "area=pi*r*r\n",
    "print(f\"area: {area}\")"
   ]
  },
  {
   "cell_type": "code",
   "execution_count": 31,
   "id": "e9a12398-8d39-46cc-9d9c-54de040be28f",
   "metadata": {},
   "outputs": [
    {
     "name": "stdout",
     "output_type": "stream",
     "text": [
      "bill_amount: 18164\n"
     ]
    }
   ],
   "source": [
    "import random\n",
    "bill_amount_in_dollars=random.randint(100,500)\n",
    "indian_rupees=random.randint(70,80)\n",
    "bill_amount=bill_amount_in_dollars*indian_rupees\n",
    "print(f\"bill_amount: {bill_amount}\")"
   ]
  },
  {
   "cell_type": "code",
   "execution_count": 33,
   "id": "5ee1348c-47e8-4d92-84f7-e24323dd293f",
   "metadata": {},
   "outputs": [
    {
     "name": "stdout",
     "output_type": "stream",
     "text": [
      "area_of_the_triangle: 578.0\n"
     ]
    }
   ],
   "source": [
    "import random\n",
    "base=random.randint(10,50)\n",
    "height=random.randint(50,100)\n",
    "area=1/2*base*height\n",
    "print(f\"area_of_the_triangle: {area}\")"
   ]
  },
  {
   "cell_type": "code",
   "execution_count": 35,
   "id": "39e6fa5a-82d0-4190-b675-490615a97096",
   "metadata": {},
   "outputs": [
    {
     "name": "stdout",
     "output_type": "stream",
     "text": [
      "area: 630\n"
     ]
    }
   ],
   "source": [
    "import random\n",
    "length=random.randint(20,50)\n",
    "breadth=random.randint(30,40)\n",
    "area=length*breadth\n",
    "print(f\"area: {area}\")"
   ]
  },
  {
   "cell_type": "code",
   "execution_count": 43,
   "id": "e1874a29-3b6d-4af8-a4b1-988189e595b5",
   "metadata": {},
   "outputs": [
    {
     "name": "stdin",
     "output_type": "stream",
     "text": [
      "Father: hey baby\n",
      "daughter: hello dady\n",
      "father: I heard your exams are over, what about result\n",
      "daughter: yes dad!Results are out\n",
      "father: what is the percentage\n",
      "daughter: I will give my subject wise marks, you tell me the percentage\n",
      "father: okay\n",
      "First Language: 60\n",
      "Second language: 56\n",
      "Third language: 76\n",
      "Science: 34\n",
      "Maths: 65\n",
      "daughter: Dd Now tell me how much percentage I got\n",
      "father: Tell the max marks of each subject\n"
     ]
    },
    {
     "name": "stdout",
     "output_type": "stream",
     "text": [
      "The percentage of marks: 58.199999999999996\n"
     ]
    }
   ],
   "source": [
    "import random\n",
    "import time\n",
    "input(\"Father:\")\n",
    "time.sleep(3)\n",
    "input(\"daughter:\")\n",
    "time.sleep(3)\n",
    "input(\"father:\")\n",
    "time.sleep(3)\n",
    "input(\"daughter:\")\n",
    "time.sleep(3)\n",
    "input(\"father:\")\n",
    "time.sleep(3)\n",
    "input(\"daughter:\")\n",
    "time.sleep(3)\n",
    "input(\"father:\")\n",
    "time.sleep(3)\n",
    "sub1=eval(input(\"First Language:\"))\n",
    "sub2=eval(input(\"Second language:\"))\n",
    "sub3=eval(input(\"Third language:\"))\n",
    "sub4=eval(input(\"Science:\"))\n",
    "sub5=eval(input(\"Maths:\"))\n",
    "input(\"daughter:\")\n",
    "time.sleep(3)\n",
    "input(\"father:\")\n",
    "time.sleep(3)\n",
    "max_marks=100\n",
    "total_marks=sub1+sub2+sub3+sub4+sub5\n",
    "percentage=(total_marks/500)*100\n",
    "print(f\"The percentage of marks: {percentage}\")\n",
    "\n",
    "\n",
    "\n",
    "\n"
   ]
  },
  {
   "cell_type": "code",
   "execution_count": null,
   "id": "b3241f94-12bc-43ac-8231-4fc8707b9972",
   "metadata": {},
   "outputs": [],
   "source": []
  }
 ],
 "metadata": {
  "kernelspec": {
   "display_name": "Python 3 (ipykernel)",
   "language": "python",
   "name": "python3"
  },
  "language_info": {
   "codemirror_mode": {
    "name": "ipython",
    "version": 3
   },
   "file_extension": ".py",
   "mimetype": "text/x-python",
   "name": "python",
   "nbconvert_exporter": "python",
   "pygments_lexer": "ipython3",
   "version": "3.11.7"
  }
 },
 "nbformat": 4,
 "nbformat_minor": 5
}
