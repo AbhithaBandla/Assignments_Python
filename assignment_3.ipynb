{
 "cells": [
  {
   "cell_type": "code",
   "execution_count": 1,
   "id": "2a152a54-7146-4554-8594-769f4c0c854a",
   "metadata": {},
   "outputs": [
    {
     "name": "stdin",
     "output_type": "stream",
     "text": [
      "enter the basic salary 70000\n"
     ]
    },
    {
     "name": "stdout",
     "output_type": "stream",
     "text": [
      "gross salary: 112000.0\n"
     ]
    }
   ],
   "source": [
    "basic_salary=eval(input(\"enter the basic salary\"))\n",
    "DA=0.4*basic_salary\n",
    "HRA=0.2*basic_salary\n",
    "gross_salary=basic_salary+DA+HRA\n",
    "print(f\"gross salary:\",gross_salary)\n"
   ]
  },
  {
   "cell_type": "code",
   "execution_count": 3,
   "id": "f1884197-2910-445d-8770-29d2c2c7ca9f",
   "metadata": {},
   "outputs": [
    {
     "name": "stdin",
     "output_type": "stream",
     "text": [
      "enter the distance: 32\n"
     ]
    },
    {
     "name": "stdout",
     "output_type": "stream",
     "text": [
      "distance in meters: 32000\n",
      "distance in feet: 104986.88\n",
      "distance in inches: 1259840\n",
      "distance in cm: 3200000\n"
     ]
    }
   ],
   "source": [
    "distance_in_kms=eval(input(\"enter the distance:\"))\n",
    "meter=distance_in_kms*1000\n",
    "feet=distance_in_kms*3280.84\n",
    "inches=distance_in_kms*39370\n",
    "cm=distance_in_kms*100000\n",
    "print(f\"distance in meters:\", meter)\n",
    "print(f\"distance in feet:\", feet)\n",
    "print(f\"distance in inches:\", inches)\n",
    "print(f\"distance in cm:\", cm)\n",
    "\n",
    "\n",
    "\n"
   ]
  },
  {
   "cell_type": "code",
   "execution_count": 7,
   "id": "152e3294-a360-455e-b31e-385dda46ec0c",
   "metadata": {},
   "outputs": [
    {
     "name": "stdin",
     "output_type": "stream",
     "text": [
      "marks obtained: 45\n",
      "marks obtained: 54\n",
      "marks obtained: 67\n",
      "marks obtained: 38\n",
      "marks obtained: 78\n"
     ]
    },
    {
     "name": "stdout",
     "output_type": "stream",
     "text": [
      "percentage_marks: 56.39999999999999\n"
     ]
    }
   ],
   "source": [
    "sub1=eval(input(\"marks obtained:\"))\n",
    "sub2=eval(input(\"marks obtained:\"))\n",
    "sub3=eval(input(\"marks obtained:\"))\n",
    "sub4=eval(input(\"marks obtained:\"))\n",
    "sub5=eval(input(\"marks obtained:\"))\n",
    "total_marks=sub1+sub2+sub3+sub4+sub5\n",
    "aggregate_marks=total_marks/500*100\n",
    "print(\"percentage_marks:\", aggregate_marks)\n",
    "\n"
   ]
  },
  {
   "cell_type": "code",
   "execution_count": 11,
   "id": "8ca740d9-cfc4-48f5-92a0-6b234d867c39",
   "metadata": {},
   "outputs": [
    {
     "name": "stdin",
     "output_type": "stream",
     "text": [
      "Temperature of a city in fahrenheit degrees 35\n"
     ]
    },
    {
     "name": "stdout",
     "output_type": "stream",
     "text": [
      "temperature into centigrade degrees: 1.6666666666666667\n"
     ]
    }
   ],
   "source": [
    "temperature=eval(input(\"Temperature of a city in fahrenheit degrees\"))\n",
    "celsius=5/9*(temperature-32)\n",
    "print(f\"temperature into centigrade degrees:\", celsius)"
   ]
  },
  {
   "cell_type": "code",
   "execution_count": 13,
   "id": "caad7798-9e97-4365-8ead-6b349a639fbc",
   "metadata": {},
   "outputs": [
    {
     "name": "stdin",
     "output_type": "stream",
     "text": [
      "enter the length of the rectangle: 4\n",
      "enter the length of the rectangle: 5\n",
      "enter the radius of the rectangle: 6\n"
     ]
    },
    {
     "name": "stdout",
     "output_type": "stream",
     "text": [
      "the area of the rectangle is: 20\n",
      "the perimeter of the rectangle is: 18\n",
      "the area of the circle is: 113.03999999999999\n",
      "the circumference of the circle is: 37.68\n"
     ]
    }
   ],
   "source": [
    "length=eval(input(\"enter the length of the rectangle:\"))\n",
    "breadth=eval(input(\"enter the length of the rectangle:\"))\n",
    "radius=eval(input(\"enter the radius of the rectangle:\"))\n",
    "area=length*breadth\n",
    "perimeter=2*breadth+2*length\n",
    "area_of_circle=3.14*radius*radius\n",
    "circumference=2*3.14*radius\n",
    "print(f\"the area of the rectangle is:\",area)\n",
    "print(f\"the perimeter of the rectangle is:\",perimeter)\n",
    "print(f\"the area of the circle is:\",area_of_circle)\n",
    "print(f\"the circumference of the circle is:\",circumference)\n",
    "\n",
    "\n",
    "\n"
   ]
  },
  {
   "cell_type": "code",
   "execution_count": 7,
   "id": "522e7df0-dc75-4762-b484-803c3c139712",
   "metadata": {},
   "outputs": [
    {
     "name": "stdout",
     "output_type": "stream",
     "text": [
      "54321\n"
     ]
    }
   ],
   "source": [
    "n=12345\n",
    "print(str(n)[::-1])"
   ]
  },
  {
   "cell_type": "code",
   "execution_count": 5,
   "id": "75c34c55-fd52-46cd-ac1e-a4ad297a151a",
   "metadata": {},
   "outputs": [
    {
     "name": "stdin",
     "output_type": "stream",
     "text": [
      "enter a number 3\n",
      "enter a number 6\n"
     ]
    },
    {
     "name": "stdout",
     "output_type": "stream",
     "text": [
      "6\n",
      "3\n"
     ]
    }
   ],
   "source": [
    "C=eval(input(\"enter a number\"))\n",
    "D=eval(input(\"enter a number\"))\n",
    "temp=C\n",
    "C=D\n",
    "D=temp\n",
    "print(C)\n",
    "print(D)"
   ]
  },
  {
   "cell_type": "code",
   "execution_count": 1,
   "id": "2f19877f-b6db-4c8b-84b4-11e7d3e02d68",
   "metadata": {},
   "outputs": [
    {
     "name": "stdin",
     "output_type": "stream",
     "text": [
      "enter five digit number 12345\n"
     ]
    },
    {
     "name": "stdout",
     "output_type": "stream",
     "text": [
      "54321\n"
     ]
    }
   ],
   "source": [
    "n=eval(input(\"enter five digit number\"))\n",
    "temp=n\n",
    "reverse=0\n",
    "while n>0:\n",
    "    remainder=n%10\n",
    "    reverse=(reverse*10)+remainder\n",
    "    n=n//10\n",
    "print(reverse)"
   ]
  },
  {
   "cell_type": "code",
   "execution_count": null,
   "id": "89fb2334-202c-48ac-88bb-25b82313a3e7",
   "metadata": {},
   "outputs": [],
   "source": []
  }
 ],
 "metadata": {
  "kernelspec": {
   "display_name": "Python 3 (ipykernel)",
   "language": "python",
   "name": "python3"
  },
  "language_info": {
   "codemirror_mode": {
    "name": "ipython",
    "version": 3
   },
   "file_extension": ".py",
   "mimetype": "text/x-python",
   "name": "python",
   "nbconvert_exporter": "python",
   "pygments_lexer": "ipython3",
   "version": "3.11.7"
  }
 },
 "nbformat": 4,
 "nbformat_minor": 5
}
