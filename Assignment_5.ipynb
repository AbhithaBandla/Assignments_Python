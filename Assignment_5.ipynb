{
 "cells": [
  {
   "cell_type": "markdown",
   "id": "146799b5-2c83-4cfb-97d5-0a0adbcd91da",
   "metadata": {},
   "source": [
    "**Functions with arguments**"
   ]
  },
  {
   "cell_type": "code",
   "execution_count": 1,
   "id": "4610134e-f9e3-456b-9e85-759ee2cbbc20",
   "metadata": {},
   "outputs": [
    {
     "name": "stdout",
     "output_type": "stream",
     "text": [
      "average of 3 numbers is: 2.0\n"
     ]
    }
   ],
   "source": [
    "#wap ask the user enter 3 numbers calculate average\n",
    "def average(num1,num2,num3):\n",
    "    avg=(num1+num2+num3)/3\n",
    "    print(f\"average of 3 numbers is: {avg}\")\n",
    "average(1,2,3)\n",
    "    "
   ]
  },
  {
   "cell_type": "code",
   "execution_count": 3,
   "id": "a335050c-c7fe-48e7-bcfd-218e2589424f",
   "metadata": {},
   "outputs": [
    {
     "name": "stdout",
     "output_type": "stream",
     "text": [
      "area of the circle is: 78.5\n"
     ]
    }
   ],
   "source": [
    "# wap ask the uer enter radius values find the area of the circle\n",
    "def area_of_the_circle(r):\n",
    "    pi=3.14\n",
    "    area=pi*r*r\n",
    "    print(f\"area of the circle is: {area}\")\n",
    "area_of_the_circle(5)"
   ]
  },
  {
   "cell_type": "code",
   "execution_count": 21,
   "id": "3ad24f2c-d6d0-471f-ba64-14cb14b95293",
   "metadata": {},
   "outputs": [
    {
     "name": "stdout",
     "output_type": "stream",
     "text": [
      "total bill is: 1200.0\n"
     ]
    }
   ],
   "source": [
    "# wap ask the user bill amount,\n",
    "#     ask the user how much tip you want pay in percentage\n",
    "#     calculate totalbill\n",
    "def bill_amount(bill,tip):\n",
    "    tip_amount=(tip/100)*bill\n",
    "    total_bill=bill+tip_amount\n",
    "    print(f\"total bill is: {total_bill}\")\n",
    "bill_amount(1000,20)\n",
    "    "
   ]
  },
  {
   "cell_type": "code",
   "execution_count": 23,
   "id": "b8798703-e52c-4458-aaec-5ede92f6b77b",
   "metadata": {},
   "outputs": [
    {
     "name": "stdout",
     "output_type": "stream",
     "text": [
      "area of the triangle: 14.0\n"
     ]
    }
   ],
   "source": [
    "# wap ask the user enter base height calculate area of the traingle\n",
    "def area_of_the_triangle(base,height):\n",
    "    area=1/2*base*height\n",
    "    print(f\"area of the triangle: {area}\")\n",
    "area_of_the_triangle(4,7)\n",
    "    "
   ]
  },
  {
   "cell_type": "code",
   "execution_count": 25,
   "id": "796d9efe-24bf-475b-aaef-06ffbfe5bf0c",
   "metadata": {},
   "outputs": [
    {
     "name": "stdout",
     "output_type": "stream",
     "text": [
      "area of the rectangle is: 42\n"
     ]
    }
   ],
   "source": [
    "#wap ask the user enter length and breadth calculate area of the rectangle\n",
    "def area_of_the_rectangle(length,breadth):\n",
    "    area=length*breadth\n",
    "    print(f\"area of the rectangle is: {area}\")\n",
    "area_of_the_rectangle(6,7)"
   ]
  },
  {
   "cell_type": "code",
   "execution_count": 35,
   "id": "60a64990-c382-44b2-a6c9-0e73fdfc3812",
   "metadata": {},
   "outputs": [
    {
     "name": "stdout",
     "output_type": "stream",
     "text": [
      "odd number\n"
     ]
    }
   ],
   "source": [
    "## wap ask the user enter a number\n",
    "# find it is a even number or odd number\n",
    "def evenorodd(num):\n",
    "    if num%2==0:\n",
    "        print(\"even number\")\n",
    "    else:\n",
    "        print(\"odd number\")\n",
    "evenorodd(5)\n",
    "    "
   ]
  },
  {
   "cell_type": "code",
   "execution_count": 37,
   "id": "e3c41712-b3b1-45df-9ecd-eb2c229ea9ca",
   "metadata": {},
   "outputs": [
    {
     "name": "stdout",
     "output_type": "stream",
     "text": [
      "total_cost is: 1250\n"
     ]
    }
   ],
   "source": [
    "## wap ask the user enter the distance\n",
    "# if distance greater than 25km\n",
    "#      then enter the charge\n",
    "#      print the total cost\n",
    "#otherwise\n",
    "#      print free ride\n",
    "def distance(dis,charge):\n",
    "    if dis>25:\n",
    "        total_cost=dis*charge\n",
    "        print(f\"total_cost is: {total_cost}\")\n",
    "    else:\n",
    "        print(\"free ride\")\n",
    "distance(250,5)\n",
    "        "
   ]
  },
  {
   "cell_type": "code",
   "execution_count": 43,
   "id": "671889c0-f08b-4a0f-bb66-b81cf018b31b",
   "metadata": {},
   "outputs": [
    {
     "name": "stdout",
     "output_type": "stream",
     "text": [
      "good news your charge is applicable for only remaining of 25\n",
      "total cost: 900\n"
     ]
    }
   ],
   "source": [
    "# wap ask the user enter the distance\n",
    "# cutoff distance enter 25\n",
    "# if distance greater than 25km\n",
    "#      print(\"good news your charge is aplicable for only remaining of 25\")\n",
    "#      chargeble distance= distance-cutoff\n",
    "#      then enter the charge\n",
    "#      print the total cost\n",
    "#otherwise\n",
    "#      print free ride\n",
    "def distance(dis,charge):\n",
    "    cutoff=25\n",
    "    if dis>25:\n",
    "        print(\"good news your charge is applicable for only remaining of 25\")\n",
    "        chargeble_distance=dis-cutoff\n",
    "        total_cost=chargeble_distance*charge\n",
    "        print(f\"total cost: {total_cost}\")\n",
    "    else:\n",
    "        print(\"free ride\")\n",
    "distance(250,4)"
   ]
  },
  {
   "cell_type": "code",
   "execution_count": 83,
   "id": "9ef21fae-2088-4fea-9da3-b4c11a757f8b",
   "metadata": {},
   "outputs": [
    {
     "name": "stdout",
     "output_type": "stream",
     "text": [
      "you are good\n"
     ]
    }
   ],
   "source": [
    "# wap ask the user enter the course\n",
    "# ask the user enter the Institute\n",
    "# if the course equal to data science and institute equal to naresh it\n",
    "#     then you are good\n",
    "# otherwise\n",
    "#     you are bad\n",
    "def user(course,institute):\n",
    "    if course==\"data science\" and institute==\"naresh it\":\n",
    "        print(\"you are good\")\n",
    "    else:\n",
    "        print(\"you are bad\")\n",
    "user('data science','naresh it')"
   ]
  },
  {
   "cell_type": "code",
   "execution_count": 59,
   "id": "ebb4b6e0-20c4-4cad-9065-e0a6f38575e8",
   "metadata": {},
   "outputs": [
    {
     "name": "stdout",
     "output_type": "stream",
     "text": [
      "won\n"
     ]
    }
   ],
   "source": [
    "# wap ask the user enter a random number between 1 to 10, treat this as number1\n",
    "# ask the user enter another number from keyboard, treat this as number2\n",
    "# if number1 equal to number2\n",
    "#     print you won\n",
    "# otherwise\n",
    "#     print you lost\n",
    "def random(number1,number2):\n",
    "    if number1==number2:\n",
    "        print(\"won\")\n",
    "    else:\n",
    "        print(\"lost\")\n",
    "random(4,4)"
   ]
  },
  {
   "cell_type": "code",
   "execution_count": 63,
   "id": "871ff8c6-d491-4d7f-8e0b-e37eefb76678",
   "metadata": {},
   "outputs": [
    {
     "name": "stdout",
     "output_type": "stream",
     "text": [
      "two\n"
     ]
    }
   ],
   "source": [
    "# wap ask the user enter number\n",
    "# if number equal to 1 then print one\n",
    "# if number equal to 2 then print two\n",
    "# if number equal to 3 then print three\n",
    "# otherwise  print enter a valid number\n",
    "def numbers(number):\n",
    "    if number==1:\n",
    "        print(\"one\")\n",
    "    elif number==2:\n",
    "        print(\"two\")\n",
    "    elif number==3:\n",
    "        print(\"three\")\n",
    "    else:\n",
    "        print(\"valid number\")\n",
    "numbers(2)"
   ]
  },
  {
   "cell_type": "code",
   "execution_count": 67,
   "id": "1d2bb7f0-21d3-4902-8692-d1f3a7d255bc",
   "metadata": {},
   "outputs": [
    {
     "name": "stdout",
     "output_type": "stream",
     "text": [
      "negative\n"
     ]
    }
   ],
   "source": [
    "# wap ask the user enter a number\n",
    "# if that number greater than zero print postive\n",
    "# if that number less than zero print negative\n",
    "# otherwise print zero\n",
    "def num(numb):\n",
    "    if numb>=0:\n",
    "        print(\"positive\")\n",
    "    elif numb<=0:\n",
    "        print(\"negative\")\n",
    "    else:\n",
    "        print(\"zero\")\n",
    "num(-6)"
   ]
  },
  {
   "cell_type": "code",
   "execution_count": 75,
   "id": "d8e79534-0de4-442c-aefc-36143955bfa5",
   "metadata": {},
   "outputs": [
    {
     "name": "stdout",
     "output_type": "stream",
     "text": [
      "fail\n"
     ]
    }
   ],
   "source": [
    "# WAP ask the user enter the percentage of marks 0 to 100\n",
    "# if percentagw gretaer than 90  print A garde\n",
    "# if percentage between 75 to 90 print B garde\n",
    "# if percentage between 50 to 75 print C grade\n",
    "# if percentage between 35 to 50 print D grade\n",
    "# if percentage less than 35 print Fail\n",
    "\n",
    "def marks(percentage):\n",
    "    if percentage>=90:\n",
    "        print(\"A grade\")\n",
    "    elif percentage>=75 and percentage<=90:\n",
    "        print(\"B grade\")\n",
    "    elif percentage>=50 and percentage<=75:\n",
    "        print(\"C grade\")\n",
    "    elif percentage>=35 and percentage<=50:\n",
    "        print(\"D grade\")\n",
    "    else:\n",
    "        print(\"fail\")\n",
    "marks(6)"
   ]
  },
  {
   "cell_type": "code",
   "execution_count": 79,
   "id": "576bb9d7-be20-4dd4-8948-d682884be311",
   "metadata": {},
   "outputs": [
    {
     "name": "stdout",
     "output_type": "stream",
     "text": [
      "senior citizen\n"
     ]
    }
   ],
   "source": [
    "# WAP ask the user enter the age\n",
    "# if the age greater tahn 100 print you are lucky\n",
    "# if the age gretaer than 75 print old age\n",
    "# if the age  between 50 to 75 print ss\n",
    "# if the age between  30 tp 50 print MA\n",
    "# if the age between  15 to 30 print young age\n",
    "# if the afe between less than 15 print kid\n",
    "def agee(age):\n",
    "    if age>100:\n",
    "        print(\"you are lucky\")\n",
    "    elif age>75:\n",
    "        print(\"old age\")\n",
    "    elif age>50 and age<75:\n",
    "        print(\"senior citizen\")\n",
    "    elif age>30 and age<50:\n",
    "        print(\"middle age\")\n",
    "    elif age>15 and age<30:\n",
    "        print(\"young age\")\n",
    "    else:\n",
    "        print(\"kid\")\n",
    "agee(65)"
   ]
  },
  {
   "cell_type": "markdown",
   "id": "b47a0da8-9030-461a-840c-28beea3b387a",
   "metadata": {},
   "source": [
    "**Functions without arguments**"
   ]
  },
  {
   "cell_type": "code",
   "execution_count": 87,
   "id": "a6cb41ea-2157-4d68-8f62-4ff0285c700a",
   "metadata": {},
   "outputs": [
    {
     "name": "stdin",
     "output_type": "stream",
     "text": [
      "enter a number: 4\n",
      "enter a number: 5\n",
      "enter a number: 6\n"
     ]
    },
    {
     "name": "stdout",
     "output_type": "stream",
     "text": [
      "average of 3 numbers is: 5.0\n"
     ]
    }
   ],
   "source": [
    "#wap ask the user enter 3 numbers calculate average\n",
    "def average():\n",
    "    num1=eval(input(\"enter a number:\"))\n",
    "    num2=eval(input(\"enter a number:\"))\n",
    "    num3=eval(input(\"enter a number:\"))\n",
    "    avg=(num1+num2+num3)/3\n",
    "    print(f\"average of 3 numbers is: {avg}\")\n",
    "average()\n"
   ]
  },
  {
   "cell_type": "code",
   "execution_count": 89,
   "id": "d3ab8a65-4d6c-410d-9d88-3c64f90fe4a4",
   "metadata": {},
   "outputs": [
    {
     "name": "stdin",
     "output_type": "stream",
     "text": [
      "enter radius: 4\n"
     ]
    },
    {
     "name": "stdout",
     "output_type": "stream",
     "text": [
      "area of the circle is: 50.24\n"
     ]
    }
   ],
   "source": [
    "# wap ask the uer enter radius values find the area of the circle\n",
    "def area_of_the_circle():\n",
    "    r=eval(input(\"enter radius:\"))\n",
    "    pi=3.14\n",
    "    area=pi*r*r\n",
    "    print(f\"area of the circle is: {area}\")\n",
    "area_of_the_circle()"
   ]
  },
  {
   "cell_type": "code",
   "execution_count": 91,
   "id": "4f43d4c3-60ca-4a4f-8b6a-0d43721498e8",
   "metadata": {},
   "outputs": [
    {
     "name": "stdin",
     "output_type": "stream",
     "text": [
      "enter bill amount: 4\n",
      "enter tip: 3\n"
     ]
    },
    {
     "name": "stdout",
     "output_type": "stream",
     "text": [
      "total bill is: 4.12\n"
     ]
    }
   ],
   "source": [
    "# wap ask the user bill amount,\n",
    "#     ask the user how much tip you want pay in percentage\n",
    "#     calculate totalbill\n",
    "def bill_amount( ):\n",
    "    bill=eval(input(\"enter bill amount:\"))\n",
    "    tip=eval(input(\"enter tip:\"))\n",
    "    tip_amount=(tip/100)*bill\n",
    "    total_bill=bill+tip_amount\n",
    "    print(f\"total bill is: {total_bill}\")\n",
    "bill_amount()\n",
    "    "
   ]
  },
  {
   "cell_type": "code",
   "execution_count": 93,
   "id": "77b0721e-2ac1-45eb-ba49-ef37050714b9",
   "metadata": {},
   "outputs": [
    {
     "name": "stdin",
     "output_type": "stream",
     "text": [
      "enter the base: 3\n",
      "enter the height: 9\n"
     ]
    },
    {
     "name": "stdout",
     "output_type": "stream",
     "text": [
      "area of the triangle: 13.5\n"
     ]
    }
   ],
   "source": [
    "# wap ask the user enter base height calculate area of the traingle\n",
    "def area_of_the_triangle():\n",
    "    base=eval(input(\"enter the base:\"))\n",
    "    height=eval(input(\"enter the height:\"))\n",
    "    area=1/2*base*height\n",
    "    print(f\"area of the triangle: {area}\")\n",
    "area_of_the_triangle()\n",
    "    "
   ]
  },
  {
   "cell_type": "code",
   "execution_count": 95,
   "id": "828f607a-47cc-40d5-926a-bae4f3696d61",
   "metadata": {},
   "outputs": [
    {
     "name": "stdin",
     "output_type": "stream",
     "text": [
      "enter the length: 7\n",
      "enter the breadth: 5\n"
     ]
    },
    {
     "name": "stdout",
     "output_type": "stream",
     "text": [
      "area of the rectangle is: 35\n"
     ]
    }
   ],
   "source": [
    "#wap ask the user enter length and breadth calculate area of the rectangle\n",
    "def area_of_the_rectangle():\n",
    "    length=eval(input(\"enter the length:\"))\n",
    "    breadth=eval(input(\"enter the breadth:\"))\n",
    "    area=length*breadth\n",
    "    print(f\"area of the rectangle is: {area}\")\n",
    "area_of_the_rectangle()"
   ]
  },
  {
   "cell_type": "code",
   "execution_count": 99,
   "id": "30e598e7-5470-41a9-8720-c62a327cb424",
   "metadata": {},
   "outputs": [
    {
     "name": "stdin",
     "output_type": "stream",
     "text": [
      "enter a number: 9\n"
     ]
    },
    {
     "name": "stdout",
     "output_type": "stream",
     "text": [
      "odd number\n"
     ]
    }
   ],
   "source": [
    "## wap ask the user enter a number\n",
    "# find it is a even number or odd number\n",
    "def evenorodd():\n",
    "    num=eval(input(\"enter a number:\"))\n",
    "    if num%2==0:\n",
    "        print(\"even number\")\n",
    "    else:\n",
    "        print(\"odd number\")\n",
    "evenorodd()\n",
    "    "
   ]
  },
  {
   "cell_type": "code",
   "execution_count": 103,
   "id": "70ebe0c4-0fca-4a24-9f2c-908fa0b483f2",
   "metadata": {},
   "outputs": [
    {
     "name": "stdin",
     "output_type": "stream",
     "text": [
      "enter distance: 45\n",
      "enter charge: 23\n"
     ]
    },
    {
     "name": "stdout",
     "output_type": "stream",
     "text": [
      "total_cost is: 1035\n"
     ]
    }
   ],
   "source": [
    "## wap ask the user enter the distance\n",
    "# if distance greater than 25km\n",
    "#      then enter the charge\n",
    "#      print the total cost\n",
    "#otherwise\n",
    "#      print free ride\n",
    "def distance():\n",
    "    dis=eval(input(\"enter distance:\"))\n",
    "    charge=eval(input(\"enter charge:\"))\n",
    "    if dis>25:\n",
    "        total_cost=dis*charge\n",
    "        print(f\"total_cost is: {total_cost}\")\n",
    "    else:\n",
    "        print(\"free ride\")\n",
    "distance()"
   ]
  },
  {
   "cell_type": "code",
   "execution_count": 127,
   "id": "b484e6cc-b6bc-4126-9e7c-0e0cf5d0c363",
   "metadata": {},
   "outputs": [
    {
     "name": "stdin",
     "output_type": "stream",
     "text": [
      "enter the course: java\n",
      "enter the institute: c\n"
     ]
    },
    {
     "name": "stdout",
     "output_type": "stream",
     "text": [
      "you are bad\n"
     ]
    }
   ],
   "source": [
    "# wap ask the user enter the course\n",
    "# ask the user enter the Institute\n",
    "# if the course equal to data science and institute equal to naresh it\n",
    "#     then you are good\n",
    "# otherwise\n",
    "#     you are bad\n",
    "def user():\n",
    "    course=input(\"enter the course:\")\n",
    "    institute=input(\"enter the institute:\")\n",
    "    if course==\"data science\" and institute==\"naresh it\":\n",
    "        print(\"you are good\")\n",
    "    else:\n",
    "        print(\"you are bad\")\n",
    "user()"
   ]
  },
  {
   "cell_type": "code",
   "execution_count": 113,
   "id": "c9bd0c36-28ee-4a51-bcf9-5a0db8c2066c",
   "metadata": {},
   "outputs": [
    {
     "name": "stdin",
     "output_type": "stream",
     "text": [
      "enter the number 7\n",
      "enter the number 5\n"
     ]
    },
    {
     "name": "stdout",
     "output_type": "stream",
     "text": [
      "lost\n"
     ]
    }
   ],
   "source": [
    "# wap ask the user enter a random number between 1 to 10, treat this as number1\n",
    "# ask the user enter another number from keyboard, treat this as number2\n",
    "# if number1 equal to number2\n",
    "#     print you won\n",
    "# otherwise\n",
    "#     print you lost\n",
    "def random():\n",
    "    number1=eval(input(\"enter the number\"))\n",
    "    number2=eval(input(\"enter the number\"))\n",
    "    if number1==number2:\n",
    "        print(\"won\")\n",
    "    else:\n",
    "        print(\"lost\")\n",
    "random()"
   ]
  },
  {
   "cell_type": "code",
   "execution_count": 115,
   "id": "1b8ddebf-bfe9-4da1-a0e2-967742136f76",
   "metadata": {},
   "outputs": [
    {
     "name": "stdin",
     "output_type": "stream",
     "text": [
      "enter the number: 2\n"
     ]
    },
    {
     "name": "stdout",
     "output_type": "stream",
     "text": [
      "two\n"
     ]
    }
   ],
   "source": [
    "# wap ask the user enter number\n",
    "# if number equal to 1 then print one\n",
    "# if number equal to 2 then print two\n",
    "# if number equal to 3 then print three\n",
    "# otherwise  print enter a valid number\n",
    "def numbers():\n",
    "    number=eval(input(\"enter the number:\"))\n",
    "    if number==1:\n",
    "        print(\"one\")\n",
    "    elif number==2:\n",
    "        print(\"two\")\n",
    "    elif number==3:\n",
    "        print(\"three\")\n",
    "    else:\n",
    "        print(\"valid number\")\n",
    "numbers()"
   ]
  },
  {
   "cell_type": "code",
   "execution_count": 119,
   "id": "5351b9d1-6011-43a4-9d94-7e7e78246824",
   "metadata": {},
   "outputs": [
    {
     "name": "stdin",
     "output_type": "stream",
     "text": [
      "enter the number 56\n"
     ]
    },
    {
     "name": "stdout",
     "output_type": "stream",
     "text": [
      "positive\n"
     ]
    }
   ],
   "source": [
    "# wap ask the user enter a number\n",
    "# if that number greater than zero print postive\n",
    "# if that number less than zero print negative\n",
    "# otherwise print zero\n",
    "def num():\n",
    "    numb=eval(input(\"enter the number\"))\n",
    "    if numb>=0:\n",
    "        print(\"positive\")\n",
    "    elif numb<=0:\n",
    "        print(\"negative\")\n",
    "    else:\n",
    "        print(\"zero\")\n",
    "num()"
   ]
  },
  {
   "cell_type": "code",
   "execution_count": 121,
   "id": "d37bfc25-4a85-4d76-8611-10eeab07ace2",
   "metadata": {},
   "outputs": [
    {
     "name": "stdin",
     "output_type": "stream",
     "text": [
      "enter the percentage: 56\n"
     ]
    },
    {
     "name": "stdout",
     "output_type": "stream",
     "text": [
      "C grade\n"
     ]
    }
   ],
   "source": [
    "# WAP ask the user enter the percentage of marks 0 to 100\n",
    "# if percentagw gretaer than 90  print A garde\n",
    "# if percentage between 75 to 90 print B garde\n",
    "# if percentage between 50 to 75 print C grade\n",
    "# if percentage between 35 to 50 print D grade\n",
    "# if percentage less than 35 print Fail\n",
    "\n",
    "def marks():\n",
    "    percentage=eval(input(\"enter the percentage:\"))\n",
    "    if percentage>=90:\n",
    "        print(\"A grade\")\n",
    "    elif percentage>=75 and percentage<=90:\n",
    "        print(\"B grade\")\n",
    "    elif percentage>=50 and percentage<=75:\n",
    "        print(\"C grade\")\n",
    "    elif percentage>=35 and percentage<=50:\n",
    "        print(\"D grade\")\n",
    "    else:\n",
    "        print(\"fail\")\n",
    "marks()"
   ]
  },
  {
   "cell_type": "code",
   "execution_count": 123,
   "id": "d3f134ff-60e6-45c4-8859-2da3e6a35844",
   "metadata": {},
   "outputs": [
    {
     "name": "stdin",
     "output_type": "stream",
     "text": [
      "enter the age: 9\n"
     ]
    },
    {
     "name": "stdout",
     "output_type": "stream",
     "text": [
      "kid\n"
     ]
    }
   ],
   "source": [
    "# WAP ask the user enter the age\n",
    "# if the age greater tahn 100 print you are lucky\n",
    "# if the age gretaer than 75 print old age\n",
    "# if the age  between 50 to 75 print ss\n",
    "# if the age between  30 tp 50 print MA\n",
    "# if the age between  15 to 30 print young age\n",
    "# if the afe between less than 15 print kid\n",
    "def agee():\n",
    "    age=eval(input(\"enter the age:\"))\n",
    "    if age>100:\n",
    "        print(\"you are lucky\")\n",
    "    elif age>75:\n",
    "        print(\"old age\")\n",
    "    elif age>50 and age<75:\n",
    "        print(\"senior citizen\")\n",
    "    elif age>30 and age<50:\n",
    "        print(\"middle age\")\n",
    "    elif age>15 and age<30:\n",
    "        print(\"young age\")\n",
    "    else:\n",
    "        print(\"kid\")\n",
    "agee()"
   ]
  },
  {
   "cell_type": "code",
   "execution_count": null,
   "id": "703ef067-bf42-4045-86b8-7bf08c2f6cb2",
   "metadata": {},
   "outputs": [],
   "source": []
  }
 ],
 "metadata": {
  "kernelspec": {
   "display_name": "Python 3 (ipykernel)",
   "language": "python",
   "name": "python3"
  },
  "language_info": {
   "codemirror_mode": {
    "name": "ipython",
    "version": 3
   },
   "file_extension": ".py",
   "mimetype": "text/x-python",
   "name": "python",
   "nbconvert_exporter": "python",
   "pygments_lexer": "ipython3",
   "version": "3.11.7"
  }
 },
 "nbformat": 4,
 "nbformat_minor": 5
}
